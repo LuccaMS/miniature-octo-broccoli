{
 "cells": [
  {
   "cell_type": "code",
   "execution_count": 1,
   "metadata": {},
   "outputs": [],
   "source": [
    "from classes import *"
   ]
  },
  {
   "cell_type": "code",
   "execution_count": 2,
   "metadata": {},
   "outputs": [],
   "source": [
    "#importing the libraries to create a csv file\n",
    "import csv\n",
    "import os\n",
    "import pandas as pd"
   ]
  },
  {
   "cell_type": "code",
   "execution_count": 3,
   "metadata": {},
   "outputs": [],
   "source": [
    "#getting the amount of emissor and recebedor from the user\n",
    "qtd_emissor = int(input(\"Quantos emissores você deseja ?? \"))"
   ]
  },
  {
   "cell_type": "code",
   "execution_count": 4,
   "metadata": {},
   "outputs": [],
   "source": [
    "qtd_recebedor = int(input(\"Quantos recebedores você deseja? \"))"
   ]
  },
  {
   "cell_type": "code",
   "execution_count": 5,
   "metadata": {},
   "outputs": [],
   "source": [
    "comunicacao = Communication()"
   ]
  },
  {
   "cell_type": "code",
   "execution_count": 6,
   "metadata": {},
   "outputs": [],
   "source": [
    "for i in range(qtd_recebedor):\n",
    "    comunicacao.recebedores.append(Recebedor(i,com=comunicacao))"
   ]
  },
  {
   "cell_type": "code",
   "execution_count": 7,
   "metadata": {},
   "outputs": [],
   "source": [
    "for i in range(qtd_emissor):\n",
    "    comunicacao.emissores.append(Emissor(i,token=None,list_recebedores=comunicacao.recebedores,com=comunicacao))\n",
    "    comunicacao.list_of_who_has_the_token.append(0)"
   ]
  },
  {
   "cell_type": "code",
   "execution_count": 8,
   "metadata": {},
   "outputs": [],
   "source": [
    "message = \"this is a test message\"\n",
    "#we have to break the message to each"
   ]
  },
  {
   "cell_type": "code",
   "execution_count": 9,
   "metadata": {},
   "outputs": [],
   "source": [
    "tokens = []"
   ]
  },
  {
   "cell_type": "code",
   "execution_count": 10,
   "metadata": {},
   "outputs": [
    {
     "name": "stdout",
     "output_type": "stream",
     "text": [
      "[1, 0, 0, 0, 0, 0, 0, 0]\n",
      "[1, 0, 0, 0, 0, 0, 0, 0]\n",
      "[1, 0, 0, 0, 0, 0, 0, 0]\n",
      "[1, 0, 0, 0, 0, 0, 0, 0]\n",
      "[1, 0, 0, 0, 0, 0, 0, 0]\n",
      "[1, 0, 0, 0, 0, 0, 0, 0]\n",
      "[1, 0, 0, 0, 0, 0, 0, 0]\n",
      "[1, 0, 0, 0, 0, 0, 0, 0]\n",
      "[0, 1, 0, 0, 0, 0, 0, 0]\n",
      "[0, 1, 0, 0, 0, 0, 0, 0]\n",
      "[0, 1, 0, 0, 0, 0, 0, 0]\n",
      "[0, 1, 0, 0, 0, 0, 0, 0]\n",
      "[0, 1, 0, 0, 0, 0, 0, 0]\n",
      "[0, 1, 0, 0, 0, 0, 0, 0]\n",
      "[0, 1, 0, 0, 0, 0, 0, 0]\n",
      "[0, 1, 0, 0, 0, 0, 0, 0]\n",
      "[0, 0, 1, 0, 0, 0, 0, 0]\n",
      "[0, 0, 1, 0, 0, 0, 0, 0]\n",
      "[0, 0, 1, 0, 0, 0, 0, 0]\n",
      "[0, 0, 1, 0, 0, 0, 0, 0]\n",
      "[0, 0, 1, 0, 0, 0, 0, 0]\n",
      "[0, 0, 1, 0, 0, 0, 0, 0]\n",
      "[0, 0, 1, 0, 0, 0, 0, 0]\n",
      "[0, 0, 1, 0, 0, 0, 0, 0]\n",
      "[0, 0, 0, 1, 0, 0, 0, 0]\n",
      "[0, 0, 0, 1, 0, 0, 0, 0]\n",
      "[0, 0, 0, 1, 0, 0, 0, 0]\n",
      "[0, 0, 0, 1, 0, 0, 0, 0]\n",
      "[0, 0, 0, 1, 0, 0, 0, 0]\n",
      "[0, 0, 0, 1, 0, 0, 0, 0]\n",
      "[0, 0, 0, 1, 0, 0, 0, 0]\n",
      "[0, 0, 0, 1, 0, 0, 0, 0]\n",
      "[0, 0, 0, 0, 1, 0, 0, 0]\n",
      "[0, 0, 0, 0, 1, 0, 0, 0]\n",
      "[0, 0, 0, 0, 1, 0, 0, 0]\n",
      "[0, 0, 0, 0, 1, 0, 0, 0]\n",
      "[0, 0, 0, 0, 1, 0, 0, 0]\n",
      "[0, 0, 0, 0, 1, 0, 0, 0]\n",
      "[0, 0, 0, 0, 1, 0, 0, 0]\n",
      "[0, 0, 0, 0, 1, 0, 0, 0]\n",
      "[0, 0, 0, 0, 0, 1, 0, 0]\n",
      "[0, 0, 0, 0, 0, 1, 0, 0]\n",
      "[0, 0, 0, 0, 0, 1, 0, 0]\n",
      "[0, 0, 0, 0, 0, 1, 0, 0]\n",
      "[0, 0, 0, 0, 0, 1, 0, 0]\n",
      "[0, 0, 0, 0, 0, 1, 0, 0]\n",
      "[0, 0, 0, 0, 0, 1, 0, 0]\n",
      "[0, 0, 0, 0, 0, 1, 0, 0]\n",
      "[0, 0, 0, 0, 0, 0, 1, 0]\n",
      "[0, 0, 0, 0, 0, 0, 1, 0]\n",
      "[0, 0, 0, 0, 0, 0, 1, 0]\n",
      "[0, 0, 0, 0, 0, 0, 1, 0]\n",
      "[0, 0, 0, 0, 0, 0, 1, 0]\n",
      "[0, 0, 0, 0, 0, 0, 1, 0]\n",
      "[0, 0, 0, 0, 0, 0, 1, 0]\n",
      "[0, 0, 0, 0, 0, 0, 1, 0]\n",
      "[0, 0, 0, 0, 0, 0, 0, 1]\n",
      "[0, 0, 0, 0, 0, 0, 0, 1]\n",
      "[0, 0, 0, 0, 0, 0, 0, 1]\n",
      "[0, 0, 0, 0, 0, 0, 0, 1]\n",
      "[0, 0, 0, 0, 0, 0, 0, 1]\n",
      "[0, 0, 0, 0, 0, 0, 0, 1]\n",
      "[0, 0, 0, 0, 0, 0, 0, 1]\n",
      "[0, 0, 0, 0, 0, 0, 0, 1]\n",
      "[1, 0, 0, 0, 0, 0, 0, 0]\n",
      "[1, 0, 0, 0, 0, 0, 0, 0]\n",
      "[1, 0, 0, 0, 0, 0, 0, 0]\n",
      "[1, 0, 0, 0, 0, 0, 0, 0]\n",
      "[1, 0, 0, 0, 0, 0, 0, 0]\n",
      "[1, 0, 0, 0, 0, 0, 0, 0]\n",
      "[1, 0, 0, 0, 0, 0, 0, 0]\n",
      "[1, 0, 0, 0, 0, 0, 0, 0]\n",
      "[0, 1, 0, 0, 0, 0, 0, 0]\n",
      "[0, 1, 0, 0, 0, 0, 0, 0]\n",
      "[0, 1, 0, 0, 0, 0, 0, 0]\n",
      "[0, 1, 0, 0, 0, 0, 0, 0]\n",
      "[0, 1, 0, 0, 0, 0, 0, 0]\n",
      "[0, 1, 0, 0, 0, 0, 0, 0]\n",
      "[0, 1, 0, 0, 0, 0, 0, 0]\n",
      "[0, 1, 0, 0, 0, 0, 0, 0]\n",
      "[0, 0, 1, 0, 0, 0, 0, 0]\n",
      "[0, 0, 1, 0, 0, 0, 0, 0]\n",
      "[0, 0, 1, 0, 0, 0, 0, 0]\n",
      "[0, 0, 1, 0, 0, 0, 0, 0]\n",
      "[0, 0, 1, 0, 0, 0, 0, 0]\n",
      "[0, 0, 1, 0, 0, 0, 0, 0]\n",
      "[0, 0, 1, 0, 0, 0, 0, 0]\n",
      "[0, 0, 1, 0, 0, 0, 0, 0]\n",
      "[0, 0, 0, 1, 0, 0, 0, 0]\n",
      "[0, 0, 0, 1, 0, 0, 0, 0]\n",
      "[0, 0, 0, 1, 0, 0, 0, 0]\n",
      "[0, 0, 0, 1, 0, 0, 0, 0]\n",
      "[0, 0, 0, 1, 0, 0, 0, 0]\n",
      "[0, 0, 0, 1, 0, 0, 0, 0]\n",
      "[0, 0, 0, 1, 0, 0, 0, 0]\n",
      "[0, 0, 0, 1, 0, 0, 0, 0]\n",
      "[0, 0, 0, 0, 1, 0, 0, 0]\n",
      "[0, 0, 0, 0, 1, 0, 0, 0]\n",
      "[0, 0, 0, 0, 1, 0, 0, 0]\n",
      "[0, 0, 0, 0, 1, 0, 0, 0]\n",
      "[0, 0, 0, 0, 1, 0, 0, 0]\n",
      "[0, 0, 0, 0, 1, 0, 0, 0]\n",
      "[0, 0, 0, 0, 1, 0, 0, 0]\n",
      "[0, 0, 0, 0, 1, 0, 0, 0]\n",
      "[0, 0, 0, 0, 0, 1, 0, 0]\n",
      "[0, 0, 0, 0, 0, 1, 0, 0]\n",
      "[0, 0, 0, 0, 0, 1, 0, 0]\n",
      "[0, 0, 0, 0, 0, 1, 0, 0]\n",
      "[0, 0, 0, 0, 0, 1, 0, 0]\n",
      "[0, 0, 0, 0, 0, 1, 0, 0]\n",
      "[0, 0, 0, 0, 0, 1, 0, 0]\n",
      "[0, 0, 0, 0, 0, 1, 0, 0]\n",
      "[0, 0, 0, 0, 0, 0, 1, 0]\n",
      "[0, 0, 0, 0, 0, 0, 1, 0]\n",
      "[0, 0, 0, 0, 0, 0, 1, 0]\n",
      "[0, 0, 0, 0, 0, 0, 1, 0]\n",
      "[0, 0, 0, 0, 0, 0, 1, 0]\n",
      "[0, 0, 0, 0, 0, 0, 1, 0]\n",
      "[0, 0, 0, 0, 0, 0, 1, 0]\n",
      "[0, 0, 0, 0, 0, 0, 1, 0]\n",
      "[0, 0, 0, 0, 0, 0, 0, 1]\n",
      "[0, 0, 0, 0, 0, 0, 0, 1]\n",
      "[0, 0, 0, 0, 0, 0, 0, 1]\n",
      "[0, 0, 0, 0, 0, 0, 0, 1]\n",
      "[0, 0, 0, 0, 0, 0, 0, 1]\n",
      "[0, 0, 0, 0, 0, 0, 0, 1]\n",
      "[0, 0, 0, 0, 0, 0, 0, 1]\n",
      "[0, 0, 0, 0, 0, 0, 0, 1]\n"
     ]
    }
   ],
   "source": [
    "for i in range(qtd_emissor*2):\n",
    "        com = comunicacao\n",
    "        com.rotate_token()\n",
    "        current_emissor_index = com.list_of_who_has_the_token.index(1)\n",
    "\n",
    "        emissor_now = com.emissores[current_emissor_index]\n",
    "\n",
    "        if(emissor_now.id == current_emissor_index):\n",
    "            emissor_now.token = 1\n",
    "        \n",
    "        for i in range(qtd_recebedor):\n",
    "            print(com.list_of_who_has_the_token)\n",
    "            tokens.append(current_emissor_index)\n",
    "            emissor_now.send_message(message,emissor_now.token,i)\n",
    "    "
   ]
  },
  {
   "cell_type": "code",
   "execution_count": 11,
   "metadata": {},
   "outputs": [
    {
     "name": "stdout",
     "output_type": "stream",
     "text": [
      "['Recebedor 0 recebeu msg de Emissor 0', 'Recebedor 1 recebeu msg de Emissor 0', 'Recebedor 2 recebeu msg de Emissor 0', 'Recebedor 3 recebeu msg de Emissor 0', 'Recebedor 4 recebeu msg de Emissor 0', 'Recebedor 5 recebeu msg de Emissor 0', 'Recebedor 6 recebeu msg de Emissor 0', 'Recebedor 7 recebeu msg de Emissor 0', 'Recebedor 0 recebeu msg de Emissor 1', 'Recebedor 1 recebeu msg de Emissor 1', 'Recebedor 2 recebeu msg de Emissor 1', 'Recebedor 3 recebeu msg de Emissor 1', 'Recebedor 4 recebeu msg de Emissor 1', 'Recebedor 5 recebeu msg de Emissor 1', 'Recebedor 6 recebeu msg de Emissor 1', 'Recebedor 7 recebeu msg de Emissor 1', 'Recebedor 0 recebeu msg de Emissor 2', 'Recebedor 1 recebeu msg de Emissor 2', 'Recebedor 2 recebeu msg de Emissor 2', 'Recebedor 3 recebeu msg de Emissor 2', 'Recebedor 4 recebeu msg de Emissor 2', 'Recebedor 5 recebeu msg de Emissor 2', 'Recebedor 6 recebeu msg de Emissor 2', 'Recebedor 7 recebeu msg de Emissor 2', 'Recebedor 0 recebeu msg de Emissor 3', 'Recebedor 1 recebeu msg de Emissor 3', 'Recebedor 2 recebeu msg de Emissor 3', 'Recebedor 3 recebeu msg de Emissor 3', 'Recebedor 4 recebeu msg de Emissor 3', 'Recebedor 5 recebeu msg de Emissor 3', 'Recebedor 6 recebeu msg de Emissor 3', 'Recebedor 7 recebeu msg de Emissor 3', 'Recebedor 0 recebeu msg de Emissor 4', 'Recebedor 1 recebeu msg de Emissor 4', 'Recebedor 2 recebeu msg de Emissor 4', 'Recebedor 3 recebeu msg de Emissor 4', 'Recebedor 4 recebeu msg de Emissor 4', 'Recebedor 5 recebeu msg de Emissor 4', 'Recebedor 6 recebeu msg de Emissor 4', 'Recebedor 7 recebeu msg de Emissor 4', 'Recebedor 0 recebeu msg de Emissor 5', 'Recebedor 1 recebeu msg de Emissor 5', 'Recebedor 2 recebeu msg de Emissor 5', 'Recebedor 3 recebeu msg de Emissor 5', 'Recebedor 4 recebeu msg de Emissor 5', 'Recebedor 5 recebeu msg de Emissor 5', 'Recebedor 6 recebeu msg de Emissor 5', 'Recebedor 7 recebeu msg de Emissor 5', 'Recebedor 0 recebeu msg de Emissor 6', 'Recebedor 1 recebeu msg de Emissor 6', 'Recebedor 2 recebeu msg de Emissor 6', 'Recebedor 3 recebeu msg de Emissor 6', 'Recebedor 4 recebeu msg de Emissor 6', 'Recebedor 5 recebeu msg de Emissor 6', 'Recebedor 6 recebeu msg de Emissor 6', 'Recebedor 7 recebeu msg de Emissor 6', 'Recebedor 0 recebeu msg de Emissor 7', 'Recebedor 1 recebeu msg de Emissor 7', 'Recebedor 2 recebeu msg de Emissor 7', 'Recebedor 3 recebeu msg de Emissor 7', 'Recebedor 4 recebeu msg de Emissor 7', 'Recebedor 5 recebeu msg de Emissor 7', 'Recebedor 6 recebeu msg de Emissor 7', 'Recebedor 7 recebeu msg de Emissor 7', 'Recebedor 0 recebeu msg de Emissor 0', 'Recebedor 1 recebeu msg de Emissor 0', 'Recebedor 2 recebeu msg de Emissor 0', 'Recebedor 3 recebeu msg de Emissor 0', 'Recebedor 4 recebeu msg de Emissor 0', 'Recebedor 5 recebeu msg de Emissor 0', 'Recebedor 6 recebeu msg de Emissor 0', 'Recebedor 7 recebeu msg de Emissor 0', 'Recebedor 0 recebeu msg de Emissor 1', 'Recebedor 1 recebeu msg de Emissor 1', 'Recebedor 2 recebeu msg de Emissor 1', 'Recebedor 3 recebeu msg de Emissor 1', 'Recebedor 4 recebeu msg de Emissor 1', 'Recebedor 5 recebeu msg de Emissor 1', 'Recebedor 6 recebeu msg de Emissor 1', 'Recebedor 7 recebeu msg de Emissor 1', 'Recebedor 0 recebeu msg de Emissor 2', 'Recebedor 1 recebeu msg de Emissor 2', 'Recebedor 2 recebeu msg de Emissor 2', 'Recebedor 3 recebeu msg de Emissor 2', 'Recebedor 4 recebeu msg de Emissor 2', 'Recebedor 5 recebeu msg de Emissor 2', 'Recebedor 6 recebeu msg de Emissor 2', 'Recebedor 7 recebeu msg de Emissor 2', 'Recebedor 0 recebeu msg de Emissor 3', 'Recebedor 1 recebeu msg de Emissor 3', 'Recebedor 2 recebeu msg de Emissor 3', 'Recebedor 3 recebeu msg de Emissor 3', 'Recebedor 4 recebeu msg de Emissor 3', 'Recebedor 5 recebeu msg de Emissor 3', 'Recebedor 6 recebeu msg de Emissor 3', 'Recebedor 7 recebeu msg de Emissor 3', 'Recebedor 0 recebeu msg de Emissor 4', 'Recebedor 1 recebeu msg de Emissor 4', 'Recebedor 2 recebeu msg de Emissor 4', 'Recebedor 3 recebeu msg de Emissor 4', 'Recebedor 4 recebeu msg de Emissor 4', 'Recebedor 5 recebeu msg de Emissor 4', 'Recebedor 6 recebeu msg de Emissor 4', 'Recebedor 7 recebeu msg de Emissor 4', 'Recebedor 0 recebeu msg de Emissor 5', 'Recebedor 1 recebeu msg de Emissor 5', 'Recebedor 2 recebeu msg de Emissor 5', 'Recebedor 3 recebeu msg de Emissor 5', 'Recebedor 4 recebeu msg de Emissor 5', 'Recebedor 5 recebeu msg de Emissor 5', 'Recebedor 6 recebeu msg de Emissor 5', 'Recebedor 7 recebeu msg de Emissor 5', 'Recebedor 0 recebeu msg de Emissor 6', 'Recebedor 1 recebeu msg de Emissor 6', 'Recebedor 2 recebeu msg de Emissor 6', 'Recebedor 3 recebeu msg de Emissor 6', 'Recebedor 4 recebeu msg de Emissor 6', 'Recebedor 5 recebeu msg de Emissor 6', 'Recebedor 6 recebeu msg de Emissor 6', 'Recebedor 7 recebeu msg de Emissor 6', 'Recebedor 0 recebeu msg de Emissor 7', 'Recebedor 1 recebeu msg de Emissor 7', 'Recebedor 2 recebeu msg de Emissor 7', 'Recebedor 3 recebeu msg de Emissor 7', 'Recebedor 4 recebeu msg de Emissor 7', 'Recebedor 5 recebeu msg de Emissor 7', 'Recebedor 6 recebeu msg de Emissor 7', 'Recebedor 7 recebeu msg de Emissor 7']\n"
     ]
    }
   ],
   "source": [
    "list_message = comunicacao.messages_list\n",
    "print(list_message)"
   ]
  },
  {
   "cell_type": "code",
   "execution_count": 12,
   "metadata": {},
   "outputs": [],
   "source": [
    "list_reciever_message = comunicacao.emissor_recieved_list"
   ]
  },
  {
   "cell_type": "code",
   "execution_count": 13,
   "metadata": {},
   "outputs": [],
   "source": [
    "dict = {#\"Emissor\": [],\n",
    "        #\"Recebedor\": [],\n",
    "        \"Reciever_Message\": list_message,\n",
    "        \"Emisssor_Message\": list_reciever_message,\n",
    "        \"Token\": tokens}"
   ]
  },
  {
   "cell_type": "code",
   "execution_count": 14,
   "metadata": {},
   "outputs": [],
   "source": [
    "df = pd.DataFrame(dict)"
   ]
  },
  {
   "cell_type": "code",
   "execution_count": 15,
   "metadata": {},
   "outputs": [
    {
     "data": {
      "text/html": [
       "<div>\n",
       "<style scoped>\n",
       "    .dataframe tbody tr th:only-of-type {\n",
       "        vertical-align: middle;\n",
       "    }\n",
       "\n",
       "    .dataframe tbody tr th {\n",
       "        vertical-align: top;\n",
       "    }\n",
       "\n",
       "    .dataframe thead th {\n",
       "        text-align: right;\n",
       "    }\n",
       "</style>\n",
       "<table border=\"1\" class=\"dataframe\">\n",
       "  <thead>\n",
       "    <tr style=\"text-align: right;\">\n",
       "      <th></th>\n",
       "      <th>Reciever_Message</th>\n",
       "      <th>Emisssor_Message</th>\n",
       "      <th>Token</th>\n",
       "    </tr>\n",
       "  </thead>\n",
       "  <tbody>\n",
       "    <tr>\n",
       "      <th>0</th>\n",
       "      <td>Recebedor 0 recebeu msg de Emissor 0</td>\n",
       "      <td>Emissor 0 recebeu a resposta do recebedor 0</td>\n",
       "      <td>0</td>\n",
       "    </tr>\n",
       "    <tr>\n",
       "      <th>1</th>\n",
       "      <td>Recebedor 1 recebeu msg de Emissor 0</td>\n",
       "      <td>Emissor 0 recebeu a resposta do recebedor 1</td>\n",
       "      <td>0</td>\n",
       "    </tr>\n",
       "    <tr>\n",
       "      <th>2</th>\n",
       "      <td>Recebedor 2 recebeu msg de Emissor 0</td>\n",
       "      <td>Emissor 0 recebeu a resposta do recebedor 2</td>\n",
       "      <td>0</td>\n",
       "    </tr>\n",
       "    <tr>\n",
       "      <th>3</th>\n",
       "      <td>Recebedor 3 recebeu msg de Emissor 0</td>\n",
       "      <td>Emissor 0 recebeu a resposta do recebedor 3</td>\n",
       "      <td>0</td>\n",
       "    </tr>\n",
       "    <tr>\n",
       "      <th>4</th>\n",
       "      <td>Recebedor 4 recebeu msg de Emissor 0</td>\n",
       "      <td>Emissor 0 recebeu a resposta do recebedor 4</td>\n",
       "      <td>0</td>\n",
       "    </tr>\n",
       "    <tr>\n",
       "      <th>...</th>\n",
       "      <td>...</td>\n",
       "      <td>...</td>\n",
       "      <td>...</td>\n",
       "    </tr>\n",
       "    <tr>\n",
       "      <th>123</th>\n",
       "      <td>Recebedor 3 recebeu msg de Emissor 7</td>\n",
       "      <td>Emissor 7 recebeu a resposta do recebedor 3</td>\n",
       "      <td>7</td>\n",
       "    </tr>\n",
       "    <tr>\n",
       "      <th>124</th>\n",
       "      <td>Recebedor 4 recebeu msg de Emissor 7</td>\n",
       "      <td>Emissor 7 recebeu a resposta do recebedor 4</td>\n",
       "      <td>7</td>\n",
       "    </tr>\n",
       "    <tr>\n",
       "      <th>125</th>\n",
       "      <td>Recebedor 5 recebeu msg de Emissor 7</td>\n",
       "      <td>Emissor 7 recebeu a resposta do recebedor 5</td>\n",
       "      <td>7</td>\n",
       "    </tr>\n",
       "    <tr>\n",
       "      <th>126</th>\n",
       "      <td>Recebedor 6 recebeu msg de Emissor 7</td>\n",
       "      <td>Emissor 7 recebeu a resposta do recebedor 6</td>\n",
       "      <td>7</td>\n",
       "    </tr>\n",
       "    <tr>\n",
       "      <th>127</th>\n",
       "      <td>Recebedor 7 recebeu msg de Emissor 7</td>\n",
       "      <td>Emissor 7 recebeu a resposta do recebedor 7</td>\n",
       "      <td>7</td>\n",
       "    </tr>\n",
       "  </tbody>\n",
       "</table>\n",
       "<p>128 rows × 3 columns</p>\n",
       "</div>"
      ],
      "text/plain": [
       "                         Reciever_Message   \n",
       "0    Recebedor 0 recebeu msg de Emissor 0  \\\n",
       "1    Recebedor 1 recebeu msg de Emissor 0   \n",
       "2    Recebedor 2 recebeu msg de Emissor 0   \n",
       "3    Recebedor 3 recebeu msg de Emissor 0   \n",
       "4    Recebedor 4 recebeu msg de Emissor 0   \n",
       "..                                    ...   \n",
       "123  Recebedor 3 recebeu msg de Emissor 7   \n",
       "124  Recebedor 4 recebeu msg de Emissor 7   \n",
       "125  Recebedor 5 recebeu msg de Emissor 7   \n",
       "126  Recebedor 6 recebeu msg de Emissor 7   \n",
       "127  Recebedor 7 recebeu msg de Emissor 7   \n",
       "\n",
       "                                Emisssor_Message  Token  \n",
       "0    Emissor 0 recebeu a resposta do recebedor 0      0  \n",
       "1    Emissor 0 recebeu a resposta do recebedor 1      0  \n",
       "2    Emissor 0 recebeu a resposta do recebedor 2      0  \n",
       "3    Emissor 0 recebeu a resposta do recebedor 3      0  \n",
       "4    Emissor 0 recebeu a resposta do recebedor 4      0  \n",
       "..                                           ...    ...  \n",
       "123  Emissor 7 recebeu a resposta do recebedor 3      7  \n",
       "124  Emissor 7 recebeu a resposta do recebedor 4      7  \n",
       "125  Emissor 7 recebeu a resposta do recebedor 5      7  \n",
       "126  Emissor 7 recebeu a resposta do recebedor 6      7  \n",
       "127  Emissor 7 recebeu a resposta do recebedor 7      7  \n",
       "\n",
       "[128 rows x 3 columns]"
      ]
     },
     "execution_count": 15,
     "metadata": {},
     "output_type": "execute_result"
    }
   ],
   "source": [
    "df"
   ]
  }
 ],
 "metadata": {
  "kernelspec": {
   "display_name": "Python 3",
   "language": "python",
   "name": "python3"
  },
  "language_info": {
   "codemirror_mode": {
    "name": "ipython",
    "version": 3
   },
   "file_extension": ".py",
   "mimetype": "text/x-python",
   "name": "python",
   "nbconvert_exporter": "python",
   "pygments_lexer": "ipython3",
   "version": "3.11.3"
  },
  "orig_nbformat": 4
 },
 "nbformat": 4,
 "nbformat_minor": 2
}
